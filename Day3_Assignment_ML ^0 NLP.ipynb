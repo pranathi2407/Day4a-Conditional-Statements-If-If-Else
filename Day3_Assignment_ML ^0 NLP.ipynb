{
 "cells": [
  {
   "cell_type": "markdown",
   "id": "8c128db7",
   "metadata": {},
   "source": [
    "# Write a Python program that takes a student's marks in three subjects as input.\n",
    "#If the average is greater than or equal to 90, print \"Grade: A\".\n",
    "#If the average is between 80 and 89, print \"Grade: B\".\n",
    "#If the average is between 70 and 79, print \"Grade: C\".\n",
    "#Otherwise, print \"Grade: Fail\".\n"
   ]
  },
  {
   "cell_type": "code",
   "execution_count": 1,
   "id": "b0891f5e",
   "metadata": {},
   "outputs": [
    {
     "name": "stdout",
     "output_type": "stream",
     "text": [
      "Enter marks for Subject 1: 100\n",
      "Enter marks for Subject 2: 98\n",
      "Enter marks for Subject 3: 92\n",
      "Grade: A\n"
     ]
    }
   ],
   "source": [
    "# Taking input from the user for marks in three subjects\n",
    "subject1 = float(input(\"Enter marks for Subject 1: \"))\n",
    "subject2 = float(input(\"Enter marks for Subject 2: \"))\n",
    "subject3 = float(input(\"Enter marks for Subject 3: \"))\n",
    "\n",
    "# Calculating the average of the marks\n",
    "average_marks = (subject1 + subject2 + subject3) / 3\n",
    "\n",
    "# Determining the grade based on the average\n",
    "if average_marks >= 90:\n",
    "    print(\"Grade: A\")\n",
    "elif 80 <= average_marks < 90:\n",
    "    print(\"Grade: B\")\n",
    "elif 70 <= average_marks < 80:\n",
    "    print(\"Grade: C\")\n",
    "else:\n",
    "    print(\"Grade: Fail\")\n"
   ]
  },
  {
   "cell_type": "code",
   "execution_count": null,
   "id": "c3e9ce17",
   "metadata": {},
   "outputs": [],
   "source": []
  }
 ],
 "metadata": {
  "kernelspec": {
   "display_name": "Python 3 (ipykernel)",
   "language": "python",
   "name": "python3"
  },
  "language_info": {
   "codemirror_mode": {
    "name": "ipython",
    "version": 3
   },
   "file_extension": ".py",
   "mimetype": "text/x-python",
   "name": "python",
   "nbconvert_exporter": "python",
   "pygments_lexer": "ipython3",
   "version": "3.9.13"
  }
 },
 "nbformat": 4,
 "nbformat_minor": 5
}
